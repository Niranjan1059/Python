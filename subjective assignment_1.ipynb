{
 "cells": [
  {
   "cell_type": "markdown",
   "metadata": {},
   "source": [
    "Q1. Write a Python program to get the string from the given string where\n",
    "all the occurrence of its first char has been changed to '$,' except first\n",
    "char itself?\n",
    "\n",
    "    Sample String: 'prospect'\n",
    "    Expected Result : 'pros$ect'\n"
   ]
  },
  {
   "cell_type": "code",
   "execution_count": 8,
   "metadata": {},
   "outputs": [
    {
     "name": "stdout",
     "output_type": "stream",
     "text": [
      "pros$ect\n"
     ]
    }
   ],
   "source": [
    "def change(str):\n",
    "    a=str[0]\n",
    "    c=str[1:]\n",
    "    b=c.replace(a,\"$\")\n",
    "    return a+b\n",
    "print(change(\"prospect\"))\n",
    "        "
   ]
  },
  {
   "cell_type": "markdown",
   "metadata": {},
   "source": [
    "Q2. Write a Python program to get the single string from the two given\n",
    "strings, and separated by the space and swap the first two characters of\n",
    "each string?\n",
    "\n",
    "    Sample String : 'abc', 'xyz'.\n",
    "    Expected Result: 'xyc abz'"
   ]
  },
  {
   "cell_type": "code",
   "execution_count": 17,
   "metadata": {},
   "outputs": [
    {
     "name": "stdout",
     "output_type": "stream",
     "text": [
      "xyc abz\n"
     ]
    }
   ],
   "source": [
    "def swap(a, b):  \n",
    "  x=a[0:2] \n",
    "  a=a.replace(a[0:2],b[0:2])\n",
    "  b=b.replace(b[0:2],x)\n",
    "  \n",
    "  return a+ \" \" +b  \n",
    "print(swap('abc', 'xyz')) "
   ]
  },
  {
   "cell_type": "markdown",
   "metadata": {},
   "source": [
    "Q3. Write the Python program to add 'ing' at the end of the given string\n",
    "(length of the string should be at least 3). If given string already ends\n",
    "with 'ing,' then add 'ly' instead. If string length of the given string is less\n",
    "than 3, leave it unchanged?\n",
    "\n",
    "\n",
    "    Sample string: ' abc '\n",
    "    Expected result: ' abcing '\n",
    "    Sample string: ' string '\n",
    "    Expected result: ' stringly '\n"
   ]
  },
  {
   "cell_type": "code",
   "execution_count": 38,
   "metadata": {},
   "outputs": [
    {
     "name": "stdout",
     "output_type": "stream",
     "text": [
      "abcing\n",
      "strly\n",
      "ab\n"
     ]
    }
   ],
   "source": [
    "def change(str):\n",
    "    if len(str) >=3:\n",
    "        if str[3:]==\"ing\":\n",
    "            str=str.replace(\"ing\",\"ly\")\n",
    "        else :\n",
    "            str=str+\"ing\"\n",
    "    else:str       \n",
    "    return str\n",
    "print(change(\"abc\"))\n",
    "print(change(\"string\"))\n",
    "print(change(\"ab\"))\n",
    "\n",
    "       "
   ]
  },
  {
   "cell_type": "markdown",
   "metadata": {},
   "source": [
    "Q4. Write the Python program to find the first appearance of the\n",
    "substring 'not' and 'poor' from the given string, if 'not' follows the 'poor',\n",
    "replace the whole 'not'...' poor' substring with 'good'.Return the resulting\n",
    "string.\n",
    "\n",
    "    Sample string: 'The lyrics are not that poor!'\n",
    "    'The lyrics are poor!'\n",
    "    Expected Result: 'The lyrics are good!'\n",
    "    'The lyrics are poor!'"
   ]
  },
  {
   "cell_type": "code",
   "execution_count": 42,
   "metadata": {},
   "outputs": [
    {
     "name": "stdout",
     "output_type": "stream",
     "text": [
      "The lyrics are good!\n",
      "The lyrics are poor!\n"
     ]
    }
   ],
   "source": [
    "def change(str):\n",
    "    a=str.find(\"not\")\n",
    "    b=str.find(\"poor\")\n",
    "    if b>a and a>0 and b>0:\n",
    "        str=str.replace(str[a:b+4],\"good\")\n",
    "    else:str\n",
    "    return str    \n",
    "    \n",
    "print(change(\"The lyrics are not that poor!\"))  \n",
    "print(change(\"The lyrics are poor!\"))"
   ]
  },
  {
   "cell_type": "markdown",
   "metadata": {},
   "source": [
    "Q5. Write the Python program to remove the characters which have odd\n",
    "index values of a given string."
   ]
  },
  {
   "cell_type": "code",
   "execution_count": 47,
   "metadata": {},
   "outputs": [
    {
     "data": {
      "text/plain": [
       "'iajn'"
      ]
     },
     "execution_count": 47,
     "metadata": {},
     "output_type": "execute_result"
    }
   ],
   "source": [
    "def odd_remove(str):\n",
    "    abc=\"\"\n",
    "    for i in range(len(str)):\n",
    "        if i%2!=0:\n",
    "            abc=abc+str[i]\n",
    "    return abc\n",
    "odd_remove(\"niranjan\")"
   ]
  },
  {
   "cell_type": "markdown",
   "metadata": {},
   "source": [
    "Q6. Write the python program to print the following floating numbers up\n",
    "to 2 decimal places?"
   ]
  },
  {
   "cell_type": "code",
   "execution_count": 49,
   "metadata": {},
   "outputs": [
    {
     "name": "stdout",
     "output_type": "stream",
     "text": [
      "2 decimal places Number: 3.14\n"
     ]
    }
   ],
   "source": [
    "x=3.14444\n",
    "print(\"2 decimal places Number: {:.2f}\".format(x))"
   ]
  },
  {
   "cell_type": "markdown",
   "metadata": {},
   "source": [
    "Q7. Write the Python program to format a number with a percentage?"
   ]
  },
  {
   "cell_type": "code",
   "execution_count": 57,
   "metadata": {},
   "outputs": [
    {
     "name": "stdout",
     "output_type": "stream",
     "text": [
      "number with a percentage: 4000.00%\n"
     ]
    }
   ],
   "source": [
    "x=40\n",
    "print(\"number with a percentage: {:.2%}\".format(x"
   ]
  },
  {
   "cell_type": "markdown",
   "metadata": {},
   "source": [
    "Q8. Write the Python program to count occurrences of a substring in a\n",
    "String?"
   ]
  },
  {
   "cell_type": "code",
   "execution_count": 66,
   "metadata": {},
   "outputs": [
    {
     "data": {
      "text/plain": [
       "2"
      ]
     },
     "execution_count": 66,
     "metadata": {},
     "output_type": "execute_result"
    }
   ],
   "source": [
    "def count(str,substr):\n",
    "    cout=0\n",
    "    str1=str.split(\" \")\n",
    "#     print(str1)\n",
    "    for i in str1:\n",
    "        if substr==i:\n",
    "            cout=cout+1\n",
    "    return cout\n",
    "count(\"my name is niranjan, my home is in patna\",\"my\")"
   ]
  },
  {
   "cell_type": "markdown",
   "metadata": {},
   "source": [
    "Q9. Write the Python program to count repeated characters in a string.\n",
    "\n",
    "    Sample string: ' thequickbrownjumpsoverthelazydog '\n",
    "    \n",
    "    Expected output:\n",
    "    o 3\n",
    "    e 3\n",
    "    u 2\n",
    "    h 2\n",
    "    r 2\n",
    "    t 2"
   ]
  },
  {
   "cell_type": "code",
   "execution_count": 183,
   "metadata": {},
   "outputs": [
    {
     "name": "stdout",
     "output_type": "stream",
     "text": [
      "e 3\n",
      "h 2\n",
      "o 3\n",
      "r 2\n",
      "t 2\n",
      "u 2\n"
     ]
    }
   ],
   "source": [
    "def count_repeaed(str):\n",
    "    dict1={}\n",
    "    for i in str:\n",
    "        if i in dict1.keys():\n",
    "            dict1[i] +=1\n",
    "        else :\n",
    "            dict1[i]=1\n",
    "    value=sorted(dict1.values(),reverse=True)  \n",
    "#     print(value)\n",
    "    ab=value[6]\n",
    "    \n",
    "    for (key,val) in sorted(dict1.items(),reverse=False):\n",
    "        \n",
    "        if val != ab:\n",
    "            print(key, val)\n",
    "        \n",
    "        \n",
    "        \n",
    "count_repeaed(\"thequickbrownjumpsoverthelazydog\")   \n",
    "        "
   ]
  },
  {
   "cell_type": "markdown",
   "metadata": {},
   "source": [
    "Q10. Write the Python program to print the square and cube symbol in\n",
    "the area of a rectangle and volume of a cylinder?\n",
    "\n",
    "    Sample outputThe area of the rectangle is 1256.66cm2\n",
    "    The volume of the cylinder is 1254.725cm3\n"
   ]
  },
  {
   "cell_type": "code",
   "execution_count": 124,
   "metadata": {},
   "outputs": [
    {
     "name": "stdout",
     "output_type": "stream",
     "text": [
      "The area of the rectangle is 1256.66cm²\n",
      "The volume of the cylinder is 1254.725cm³\n"
     ]
    }
   ],
   "source": [
    "area = 1256.66\n",
    "volume = 1254.725\n",
    "square = 2\n",
    "print(\"The area of the rectangle is {0:.{1}f}cm\\u00b2\".format(area, square))\n",
    "cube = 3\n",
    "print(\"The volume of the cylinder is {0:.{1}f}cm\\u00b3\".format(volume, cube))"
   ]
  },
  {
   "cell_type": "markdown",
   "metadata": {},
   "source": [
    "Q11. Write the Python program to check if a string contains all letters of\n",
    "the alphabet?"
   ]
  },
  {
   "cell_type": "code",
   "execution_count": 143,
   "metadata": {},
   "outputs": [
    {
     "name": "stdout",
     "output_type": "stream",
     "text": [
      "yes\n"
     ]
    }
   ],
   "source": [
    "import string\n",
    "\n",
    "def character(str):\n",
    "    alphabet=\"abcdefghjklmnopqrstuvwxyz\"\n",
    "    flag=1\n",
    "    for i in alphabet:\n",
    "        if i not in str.lower(): \n",
    "            flag=0\n",
    "        else :flg=1\n",
    "    if flag==1:\n",
    "        print(\"yes\")\n",
    "    else:print(\"no\")\n",
    "character(\"the quick brown fox jumps over the lazy dog\") "
   ]
  },
  {
   "cell_type": "markdown",
   "metadata": {},
   "source": [
    "Q12. Write the Python program to find the second most repeated word\n",
    "in a given string?"
   ]
  },
  {
   "cell_type": "code",
   "execution_count": 155,
   "metadata": {},
   "outputs": [
    {
     "name": "stdout",
     "output_type": "stream",
     "text": [
      "2\n",
      "is\n",
      "None\n"
     ]
    }
   ],
   "source": [
    "def second(str):\n",
    "    dict={}\n",
    "    str=str.split(\" \")\n",
    "    for i in str:\n",
    "        if i in dict.keys():\n",
    "            dict[i] +=1\n",
    "        else :\n",
    "            dict[i]=1\n",
    "#     return dict\n",
    "    value = sorted(dict.values(), reverse=True)\n",
    "    secondLarge = value[1] \n",
    "    print(secondLarge)\n",
    "  \n",
    "    # Traverse dictionary and print key whose \n",
    "    # value is equal to second large element \n",
    "    for (key, val) in dict.items(): \n",
    "        if val == secondLarge: \n",
    "            print(key)\n",
    "            return\n",
    "  \n",
    "print(second(\"my name is lakhan my village is in bihar my word\"))"
   ]
  },
  {
   "cell_type": "markdown",
   "metadata": {},
   "source": [
    "Q13. Write the Python program to find the minimum window in the given\n",
    "string, which will contains all the characters of another given\n",
    "strings?\n",
    "\n",
    "    Example 1\n",
    "    Input : string1 = \" PRWSOERIUSFK \"\n",
    "    string2 = \" OSU \"\n",
    "    Output: Minimum window is \"OERIUS\""
   ]
  },
  {
   "cell_type": "code",
   "execution_count": null,
   "metadata": {},
   "outputs": [],
   "source": [
    "def occur(str,str2):\n",
    "    for i in str2:\n",
    "        \n",
    "    "
   ]
  },
  {
   "cell_type": "markdown",
   "metadata": {},
   "source": [
    "Q14. Write the Python program to count number of substrings from a\n",
    "given string of lowercase alphabets with exactly k distinct (given)\n",
    "characters?\n",
    "\n",
    "    Input a string (lowercase alphabets): wolf\n",
    "    Input k: 4\n",
    "    Number of substrings with exactly 4 distinct characters: 1"
   ]
  },
  {
   "cell_type": "code",
   "execution_count": null,
   "metadata": {},
   "outputs": [],
   "source": [
    "def abc(str):\n",
    "    a="
   ]
  },
  {
   "cell_type": "markdown",
   "metadata": {},
   "source": [
    "Q15. Write the Python program to count number of substrings with same\n",
    "first and last characters of the given string?\n",
    "\n",
    "    Input a string: abcd\n",
    "    4\n"
   ]
  },
  {
   "cell_type": "code",
   "execution_count": 185,
   "metadata": {},
   "outputs": [
    {
     "name": "stdout",
     "output_type": "stream",
     "text": [
      "Input a string: abc\n"
     ]
    },
    {
     "data": {
      "text/plain": [
       "3"
      ]
     },
     "execution_count": 185,
     "metadata": {},
     "output_type": "execute_result"
    }
   ],
   "source": [
    "def equalEnds(str1): \n",
    "    result = 0; \n",
    "    n = len(str1); \n",
    "    for i in range(n): \n",
    "        for j in range(i, n): \n",
    "            if (str1[i] == str1[j]): \n",
    "                result = result + 1\n",
    "    return result \n",
    "str1 = input(\"Input a string: \")\n",
    "equalEnds(str1)"
   ]
  },
  {
   "cell_type": "markdown",
   "metadata": {},
   "source": [
    "## Great Job!"
   ]
  }
 ],
 "metadata": {
  "kernelspec": {
   "display_name": "Python 3",
   "language": "python",
   "name": "python3"
  },
  "language_info": {
   "codemirror_mode": {
    "name": "ipython",
    "version": 3
   },
   "file_extension": ".py",
   "mimetype": "text/x-python",
   "name": "python",
   "nbconvert_exporter": "python",
   "pygments_lexer": "ipython3",
   "version": "3.7.4"
  }
 },
 "nbformat": 4,
 "nbformat_minor": 2
}
